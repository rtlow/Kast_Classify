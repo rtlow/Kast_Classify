{
 "cells": [
  {
   "cell_type": "code",
   "execution_count": 4,
   "metadata": {},
   "outputs": [],
   "source": [
    "import kastclassify\n",
    "\n",
    "import glob"
   ]
  },
  {
   "cell_type": "code",
   "execution_count": 5,
   "metadata": {},
   "outputs": [],
   "source": [
    "#load Kast spectra\n",
    "\n",
    "file_path = '/home/ryan/projects/KASTr_data/final/'\n",
    "\n",
    "suffix = '*.fits'\n",
    "\n",
    "filepaths = glob.glob(file_path + suffix)\n"
   ]
  },
  {
   "cell_type": "code",
   "execution_count": 6,
   "metadata": {
    "scrolled": true
   },
   "outputs": [
    {
     "name": "stdout",
     "output_type": "stream",
     "text": [
      "Path /home/ryan/projects/TestingPNGs/200624/ already exists\n",
      "Saving diagnostic plots to /home/ryan/projects/TestingPNGs/200624/\n"
     ]
    }
   ],
   "source": [
    "kastclassify.core.classify(filepaths, 'Kastclassify_spectra_calculations_200624.csv', infile='Kastclassify_spectra_calculations_200624.csv', diag_path='/home/ryan/projects/TestingPNGs/200624/')"
   ]
  },
  {
   "cell_type": "code",
   "execution_count": null,
   "metadata": {},
   "outputs": [],
   "source": []
  }
 ],
 "metadata": {
  "kernelspec": {
   "display_name": "Python 3",
   "language": "python",
   "name": "python3"
  },
  "language_info": {
   "codemirror_mode": {
    "name": "ipython",
    "version": 3
   },
   "file_extension": ".py",
   "mimetype": "text/x-python",
   "name": "python",
   "nbconvert_exporter": "python",
   "pygments_lexer": "ipython3",
   "version": "3.7.7"
  }
 },
 "nbformat": 4,
 "nbformat_minor": 4
}
