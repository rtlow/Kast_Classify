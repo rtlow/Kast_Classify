{
 "cells": [
  {
   "cell_type": "code",
   "execution_count": 1,
   "metadata": {},
   "outputs": [],
   "source": [
    "import kastclassify\n",
    "\n",
    "import glob"
   ]
  },
  {
   "cell_type": "code",
   "execution_count": 2,
   "metadata": {},
   "outputs": [],
   "source": [
    "#load Kast spectra\n",
    "\n",
    "file_path = '/home/ryan/projects/KASTr_data/final/'\n",
    "\n",
    "suffix = '*.fits'\n",
    "\n",
    "filepaths = glob.glob(file_path + suffix)\n"
   ]
  },
  {
   "cell_type": "code",
   "execution_count": 3,
   "metadata": {
    "scrolled": true
   },
   "outputs": [
    {
     "name": "stdout",
     "output_type": "stream",
     "text": [
      "Path /home/ryan/Downloads/ already exists\n",
      "Saving diagnostic plots to /home/ryan/Downloads/\n",
      "Reading in /home/ryan/Downloads/kastRED_J1624-3212_20200722.fits\n",
      "Classifying by standard comparison...\n",
      "Done!\n",
      "Measuring indices...\n",
      "Mesuring index set lepine2007...\n",
      "Done!\n",
      "Mesuring index set lepine2003...\n",
      "Done!\n",
      "Mesuring index set gizis...\n",
      "Done!\n",
      "Mesuring index set reid...\n",
      "Done!\n",
      "Mesuring index set kirkpatrick...\n",
      "Done!\n",
      "Mesuring index set burgasser...\n",
      "Done!\n",
      "Mesuring index set martin...\n",
      "Done!\n",
      "Done!\n",
      "Measuring Equivalent Widths...\n",
      "Measuring EW for RbIa...\n",
      "Done!\n",
      "Measuring EW for RbIb...\n",
      "Done!\n",
      "Measuring EW for NaIa...\n",
      "Done!\n",
      "Measuring EW for NaIb...\n",
      "Done!\n",
      "Measuring EW for CsIa...\n",
      "Done!\n",
      "Measuring EW for CsIb...\n",
      "Done!\n",
      "Measuring EW for Halpha...\n",
      "Done!\n",
      "Measuring EW for LiI...\n",
      "Done!\n",
      "Measuring EW for KIa...\n",
      "Done!\n",
      "Measuring EW for KIb...\n",
      "Done!\n",
      "Measuring EW for TiIa...\n",
      "Done!\n",
      "Measuring EW for TiIb...\n",
      "Done!\n",
      "Measuring EW for CaII...\n",
      "Done!\n",
      "Measuring EW for CaIa...\n",
      "Done!\n",
      "Measuring EW for CaIb...\n",
      "Done!\n",
      "Measuring EW for CaIc...\n",
      "Done!\n",
      "Done!\n",
      "Calculating spectral types by index...\n",
      "Done!\n",
      "Calculating L_Halpha/L_bol...\n",
      "Done!\n",
      "Packaging results...\n",
      "Done!\n",
      "All done in 0:15:37.023861! All done at 2020-07-31 10:43:21.778122\n"
     ]
    }
   ],
   "source": [
    "kastclassify.core.classify(filepaths[:10], '10_file_test', diag_path='/home/ryan/projects/TestingPNGs/10_file_test/')"
   ]
  },
  {
   "cell_type": "code",
   "execution_count": null,
   "metadata": {},
   "outputs": [],
   "source": []
  }
 ],
 "metadata": {
  "kernelspec": {
   "display_name": "Python 3",
   "language": "python",
   "name": "python3"
  },
  "language_info": {
   "codemirror_mode": {
    "name": "ipython",
    "version": 3
   },
   "file_extension": ".py",
   "mimetype": "text/x-python",
   "name": "python",
   "nbconvert_exporter": "python",
   "pygments_lexer": "ipython3",
   "version": "3.7.7"
  }
 },
 "nbformat": 4,
 "nbformat_minor": 4
}
